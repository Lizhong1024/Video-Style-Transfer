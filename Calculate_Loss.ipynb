{
 "cells": [
  {
   "cell_type": "code",
   "execution_count": 0,
   "metadata": {
    "colab": {
     "base_uri": "https://localhost:8080/",
     "height": 276
    },
    "colab_type": "code",
    "executionInfo": {
     "elapsed": 6113,
     "status": "ok",
     "timestamp": 1576282145101,
     "user": {
      "displayName": "Lizhong Wang",
      "photoUrl": "https://lh3.googleusercontent.com/a-/AAuE7mA-veR1WLdr1URcbMGRg9Wp56lixxWYsCJUnz_D=s64",
      "userId": "10873032871679177977"
     },
     "user_tz": 300
    },
    "id": "aSgAs6p2TjcP",
    "outputId": "1cb7250a-4df3-46fb-d61f-de13aeb4b495"
   },
   "outputs": [
    {
     "name": "stdout",
     "output_type": "stream",
     "text": [
      "Uninstalling Pillow-4.3.0:\n",
      "  Successfully uninstalled Pillow-4.3.0\n",
      "Collecting Pillow==5.3.0\n",
      "\u001b[?25l  Downloading https://files.pythonhosted.org/packages/62/94/5430ebaa83f91cc7a9f687ff5238e26164a779cca2ef9903232268b0a318/Pillow-5.3.0-cp36-cp36m-manylinux1_x86_64.whl (2.0MB)\n",
      "\u001b[K     |████████████████████████████████| 2.0MB 4.9MB/s \n",
      "\u001b[31mERROR: albumentations 0.1.12 has requirement imgaug<0.2.7,>=0.2.5, but you'll have imgaug 0.2.9 which is incompatible.\u001b[0m\n",
      "\u001b[?25hInstalling collected packages: Pillow\n",
      "Successfully installed Pillow-5.3.0\n"
     ]
    },
    {
     "data": {
      "application/vnd.colab-display-data+json": {
       "pip_warning": {
        "packages": [
         "PIL"
        ]
       }
      }
     },
     "metadata": {
      "tags": []
     },
     "output_type": "display_data"
    },
    {
     "name": "stdout",
     "output_type": "stream",
     "text": [
      "4.3.0\n"
     ]
    }
   ],
   "source": [
    "# we need pillow version of 5.3.0\n",
    "# we will uninstall the older version first\n",
    "!pip uninstall -y Pillow\n",
    "# install the new one\n",
    "!pip install Pillow==5.3.0\n",
    "# import the new one\n",
    "import PIL\n",
    "print(PIL.PILLOW_VERSION)\n",
    "# this should print 5.3.0. If it doesn't, then restart your runtime:\n",
    "# Menu > Runtime > Restart Runtime"
   ]
  },
  {
   "cell_type": "code",
   "execution_count": 1,
   "metadata": {
    "colab": {
     "base_uri": "https://localhost:8080/",
     "height": 122
    },
    "colab_type": "code",
    "executionInfo": {
     "elapsed": 65387,
     "status": "ok",
     "timestamp": 1576385009838,
     "user": {
      "displayName": "Fanghao Zhong",
      "photoUrl": "",
      "userId": "10019608044960315541"
     },
     "user_tz": 300
    },
    "id": "iygZP03eOymf",
    "outputId": "6fc926c2-801d-4780-fa8e-77ca43588878"
   },
   "outputs": [
    {
     "name": "stdout",
     "output_type": "stream",
     "text": [
      "Go to this URL in a browser: https://accounts.google.com/o/oauth2/auth?client_id=947318989803-6bn6qk8qdgf4n4g3pfee6491hc0brc4i.apps.googleusercontent.com&redirect_uri=urn%3aietf%3awg%3aoauth%3a2.0%3aoob&response_type=code&scope=email%20https%3a%2f%2fwww.googleapis.com%2fauth%2fdocs.test%20https%3a%2f%2fwww.googleapis.com%2fauth%2fdrive%20https%3a%2f%2fwww.googleapis.com%2fauth%2fdrive.photos.readonly%20https%3a%2f%2fwww.googleapis.com%2fauth%2fpeopleapi.readonly\n",
      "\n",
      "Enter your authorization code:\n",
      "··········\n",
      "Mounted at /content/drive/\n"
     ]
    }
   ],
   "source": [
    "from google.colab import drive\n",
    "drive.mount('/content/drive/')"
   ]
  },
  {
   "cell_type": "code",
   "execution_count": 3,
   "metadata": {
    "colab": {
     "base_uri": "https://localhost:8080/",
     "height": 34
    },
    "colab_type": "code",
    "executionInfo": {
     "elapsed": 2116,
     "status": "ok",
     "timestamp": 1576385015368,
     "user": {
      "displayName": "Fanghao Zhong",
      "photoUrl": "",
      "userId": "10019608044960315541"
     },
     "user_tz": 300
    },
    "id": "mtMBAFjRN2II",
    "outputId": "5bc68f5f-f447-4309-81d3-6d31be91931d"
   },
   "outputs": [
    {
     "name": "stdout",
     "output_type": "stream",
     "text": [
      "4.3.0\n"
     ]
    }
   ],
   "source": [
    "# Import the necessary packages:\n",
    "import cv2\n",
    "import glob\n",
    "from PIL import Image  # Python Image Library for image processing\n",
    "import matplotlib.pyplot as plt  # Plotting\n",
    "import numpy as np  # Numerical computation\n",
    "import torch  # Neural network computation\n",
    "from torch import optim  # optimizer to minimize the loss function\n",
    "from torchvision import transforms, models  # Transformations on images and pre-trained models\n",
    "import os, os.path  # To count the number of image files\n",
    "\n",
    "import PIL\n",
    "print(PIL.PILLOW_VERSION)"
   ]
  },
  {
   "cell_type": "code",
   "execution_count": 4,
   "metadata": {
    "colab": {
     "base_uri": "https://localhost:8080/",
     "height": 51
    },
    "colab_type": "code",
    "executionInfo": {
     "elapsed": 30003,
     "status": "ok",
     "timestamp": 1576385045986,
     "user": {
      "displayName": "Fanghao Zhong",
      "photoUrl": "",
      "userId": "10019608044960315541"
     },
     "user_tz": 300
    },
    "id": "ZpVE0dcjN5TJ",
    "outputId": "d7007a15-4a02-471b-ea49-1bb95a8aadd5"
   },
   "outputs": [
    {
     "name": "stderr",
     "output_type": "stream",
     "text": [
      "Downloading: \"https://download.pytorch.org/models/vgg19-dcbb9e9d.pth\" to /root/.cache/torch/checkpoints/vgg19-dcbb9e9d.pth\n",
      "100%|██████████| 548M/548M [00:28<00:00, 20.5MB/s]\n"
     ]
    }
   ],
   "source": [
    "styleTransferModel = models.vgg19(pretrained=True).features\n",
    "for params in styleTransferModel.parameters():\n",
    "\tparams.requires_grad_(False)"
   ]
  },
  {
   "cell_type": "code",
   "execution_count": 5,
   "metadata": {
    "colab": {
     "base_uri": "https://localhost:8080/",
     "height": 697
    },
    "colab_type": "code",
    "executionInfo": {
     "elapsed": 33800,
     "status": "ok",
     "timestamp": 1576385051143,
     "user": {
      "displayName": "Fanghao Zhong",
      "photoUrl": "",
      "userId": "10019608044960315541"
     },
     "user_tz": 300
    },
    "id": "br-SbR_BN_S9",
    "outputId": "d7550b9c-8b7d-40e7-c5c7-04599beb4ceb"
   },
   "outputs": [
    {
     "name": "stdout",
     "output_type": "stream",
     "text": [
      "Running on GPU\n"
     ]
    },
    {
     "data": {
      "text/plain": [
       "Sequential(\n",
       "  (0): Conv2d(3, 64, kernel_size=(3, 3), stride=(1, 1), padding=(1, 1))\n",
       "  (1): ReLU(inplace=True)\n",
       "  (2): Conv2d(64, 64, kernel_size=(3, 3), stride=(1, 1), padding=(1, 1))\n",
       "  (3): ReLU(inplace=True)\n",
       "  (4): MaxPool2d(kernel_size=2, stride=2, padding=0, dilation=1, ceil_mode=False)\n",
       "  (5): Conv2d(64, 128, kernel_size=(3, 3), stride=(1, 1), padding=(1, 1))\n",
       "  (6): ReLU(inplace=True)\n",
       "  (7): Conv2d(128, 128, kernel_size=(3, 3), stride=(1, 1), padding=(1, 1))\n",
       "  (8): ReLU(inplace=True)\n",
       "  (9): MaxPool2d(kernel_size=2, stride=2, padding=0, dilation=1, ceil_mode=False)\n",
       "  (10): Conv2d(128, 256, kernel_size=(3, 3), stride=(1, 1), padding=(1, 1))\n",
       "  (11): ReLU(inplace=True)\n",
       "  (12): Conv2d(256, 256, kernel_size=(3, 3), stride=(1, 1), padding=(1, 1))\n",
       "  (13): ReLU(inplace=True)\n",
       "  (14): Conv2d(256, 256, kernel_size=(3, 3), stride=(1, 1), padding=(1, 1))\n",
       "  (15): ReLU(inplace=True)\n",
       "  (16): Conv2d(256, 256, kernel_size=(3, 3), stride=(1, 1), padding=(1, 1))\n",
       "  (17): ReLU(inplace=True)\n",
       "  (18): MaxPool2d(kernel_size=2, stride=2, padding=0, dilation=1, ceil_mode=False)\n",
       "  (19): Conv2d(256, 512, kernel_size=(3, 3), stride=(1, 1), padding=(1, 1))\n",
       "  (20): ReLU(inplace=True)\n",
       "  (21): Conv2d(512, 512, kernel_size=(3, 3), stride=(1, 1), padding=(1, 1))\n",
       "  (22): ReLU(inplace=True)\n",
       "  (23): Conv2d(512, 512, kernel_size=(3, 3), stride=(1, 1), padding=(1, 1))\n",
       "  (24): ReLU(inplace=True)\n",
       "  (25): Conv2d(512, 512, kernel_size=(3, 3), stride=(1, 1), padding=(1, 1))\n",
       "  (26): ReLU(inplace=True)\n",
       "  (27): MaxPool2d(kernel_size=2, stride=2, padding=0, dilation=1, ceil_mode=False)\n",
       "  (28): Conv2d(512, 512, kernel_size=(3, 3), stride=(1, 1), padding=(1, 1))\n",
       "  (29): ReLU(inplace=True)\n",
       "  (30): Conv2d(512, 512, kernel_size=(3, 3), stride=(1, 1), padding=(1, 1))\n",
       "  (31): ReLU(inplace=True)\n",
       "  (32): Conv2d(512, 512, kernel_size=(3, 3), stride=(1, 1), padding=(1, 1))\n",
       "  (33): ReLU(inplace=True)\n",
       "  (34): Conv2d(512, 512, kernel_size=(3, 3), stride=(1, 1), padding=(1, 1))\n",
       "  (35): ReLU(inplace=True)\n",
       "  (36): MaxPool2d(kernel_size=2, stride=2, padding=0, dilation=1, ceil_mode=False)\n",
       ")"
      ]
     },
     "execution_count": 5,
     "metadata": {
      "tags": []
     },
     "output_type": "execute_result"
    }
   ],
   "source": [
    "if torch.cuda.is_available():\n",
    "    device = torch.device(\"cuda\")\n",
    "    print(\"Running on GPU\")\n",
    "else:\n",
    "    device = torch.device(\"cpu\")\n",
    "    print(\"Running on CPU\")\n",
    "\n",
    "styleTransferModel.to(device)"
   ]
  },
  {
   "cell_type": "code",
   "execution_count": 0,
   "metadata": {
    "colab": {},
    "colab_type": "code",
    "id": "dyo-yDUJOBTF"
   },
   "outputs": [],
   "source": [
    "# Load the content and style images:\n",
    "def load_image(image_path, max_size=480, shape=None):\n",
    "    # Load in an image and make sure that it is <= 400 pixels in the X-Y dimension:\n",
    "    # Convert the image to RGB:\n",
    "    image = Image.open(image_path).convert('RGB')\n",
    "\n",
    "    # Resize the image as a large image will slow down processing:\n",
    "    if max(image.size) > max_size:\n",
    "        img_size = max_size\n",
    "    else:\n",
    "        img_size = max(image.size)\n",
    "\n",
    "    if shape is not None:\n",
    "        img_size = shape\n",
    "\n",
    "    img_transform = transforms.Compose([\n",
    "        transforms.Resize(img_size),\n",
    "        transforms.ToTensor(),\n",
    "        transforms.Normalize((0.485, 0.456, 0.406),\n",
    "                             (0.229, 0.224, 0.225))])\n",
    "    # Discard the transparent alpha channel (that's the :3) and add the batch dimension:\n",
    "    image = img_transform(image)[:3, :, :].unsqueeze(0)\n",
    "\n",
    "    return image"
   ]
  },
  {
   "cell_type": "code",
   "execution_count": 0,
   "metadata": {
    "colab": {},
    "colab_type": "code",
    "id": "3ZQJkUfLOEzW"
   },
   "outputs": [],
   "source": [
    "# CONTENT AND STYLE FEATURES:\n",
    "# Map the layer names to the names given in the paper:\n",
    "def get_features(image, model, layers=None):\n",
    "    # Run an image forward through a model and get the features for a set of layers:\n",
    "\n",
    "    # Layers for the content and style representation of an image:\n",
    "    if layers is None:\n",
    "        layers = {'0': 'conv1_1',\n",
    "                  '5': 'conv2_1',\n",
    "                  '10': 'conv3_1',\n",
    "                  '19': 'conv4_1',\n",
    "                  '21': 'conv4_2',  # Content representation\n",
    "                  '28': 'conv5_1',}\n",
    "\n",
    "    features = {}\n",
    "    x = image\n",
    "    # model._modules is a dictionary holding each module in the model:\n",
    "    for name, layer in model._modules.items():\n",
    "        x = layer(x)\n",
    "        if name in layers:\n",
    "            features[layers[name]] = x\n",
    "\n",
    "    return features"
   ]
  },
  {
   "cell_type": "code",
   "execution_count": 0,
   "metadata": {
    "colab": {},
    "colab_type": "code",
    "id": "umMxhudCOHbc"
   },
   "outputs": [],
   "source": [
    "# GRAM MATRIX:\n",
    "# Define the gram matrix of the tensor:\n",
    "def gram_matrix(tensor):\n",
    "    # Calculate the Gram Matrix of a given tensor:\n",
    "    # Get the batch_size, depth, height and width of the image:\n",
    "    batch_size, depth, height, width = tensor.size()\n",
    "    #(Sample tensor shape : torch.Size([1, 64, 400, 592]))\n",
    "    # Here, batch_size = 1, depth = 64, height = 400, width = 592\n",
    "    \n",
    "    # Vectorize the input image tensor and add all the feature maps:\n",
    "    tensor = tensor.view(depth, height * width)\n",
    "    # Transpose the image tensor:\n",
    "    tensor_t = tensor.t()\n",
    "    # Compute the gram matrix by multiplying the matrix by its transpose:\n",
    "    gram = torch.mm(tensor, tensor_t)\n",
    "\n",
    "    # Return the gram matrix:\n",
    "    return gram"
   ]
  },
  {
   "cell_type": "code",
   "execution_count": 0,
   "metadata": {
    "colab": {},
    "colab_type": "code",
    "id": "3th2rfaYOPqt"
   },
   "outputs": [],
   "source": [
    "# Function to un-normalize an image and convert from a Tensor image to a NumPy image for display or writing to disk:\n",
    "def img_convert(tensor):\n",
    "    # Display a tensor as an image:\n",
    "\n",
    "    image = tensor.to(\"cpu\").clone().detach()\n",
    "    image = image.numpy().squeeze()\n",
    "    image = image.transpose(1, 2, 0)\n",
    "    image = image * np.array((0.229, 0.224, 0.225)) + np.array((0.485, 0.456, 0.406))\n",
    "    image = image.clip(0, 1)\n",
    "\n",
    "    return image"
   ]
  },
  {
   "cell_type": "code",
   "execution_count": 0,
   "metadata": {
    "colab": {
     "base_uri": "https://localhost:8080/",
     "height": 34
    },
    "colab_type": "code",
    "executionInfo": {
     "elapsed": 1281,
     "status": "ok",
     "timestamp": 1576282817219,
     "user": {
      "displayName": "Lizhong Wang",
      "photoUrl": "https://lh3.googleusercontent.com/a-/AAuE7mA-veR1WLdr1URcbMGRg9Wp56lixxWYsCJUnz_D=s64",
      "userId": "10873032871679177977"
     },
     "user_tz": 300
    },
    "id": "NUl4Z43-zMx0",
    "outputId": "95470560-84fd-44ad-851a-d3ed953feecb"
   },
   "outputs": [
    {
     "name": "stdout",
     "output_type": "stream",
     "text": [
      "fatal: destination path 'pyflow' already exists and is not an empty directory.\n"
     ]
    }
   ],
   "source": [
    "!git clone https://github.com/pathak22/pyflow.git"
   ]
  },
  {
   "cell_type": "code",
   "execution_count": 7,
   "metadata": {
    "colab": {
     "base_uri": "https://localhost:8080/",
     "height": 34
    },
    "colab_type": "code",
    "executionInfo": {
     "elapsed": 20242,
     "status": "ok",
     "timestamp": 1576385051145,
     "user": {
      "displayName": "Fanghao Zhong",
      "photoUrl": "",
      "userId": "10019608044960315541"
     },
     "user_tz": 300
    },
    "id": "AP-TQJuEYPI7",
    "outputId": "6943e713-a481-4f07-b925-3e8bc24f6e4d"
   },
   "outputs": [
    {
     "name": "stdout",
     "output_type": "stream",
     "text": [
      "/content/drive/My Drive/ZFH/pyflow\n"
     ]
    }
   ],
   "source": [
    "cd pyflow/"
   ]
  },
  {
   "cell_type": "code",
   "execution_count": 0,
   "metadata": {
    "colab": {
     "base_uri": "https://localhost:8080/",
     "height": 34
    },
    "colab_type": "code",
    "executionInfo": {
     "elapsed": 2151,
     "status": "ok",
     "timestamp": 1576282821126,
     "user": {
      "displayName": "Lizhong Wang",
      "photoUrl": "https://lh3.googleusercontent.com/a-/AAuE7mA-veR1WLdr1URcbMGRg9Wp56lixxWYsCJUnz_D=s64",
      "userId": "10873032871679177977"
     },
     "user_tz": 300
    },
    "id": "LRBoNdWwYPg6",
    "outputId": "1092fd9b-aa5c-439f-870d-ba973c966c6c"
   },
   "outputs": [
    {
     "name": "stdout",
     "output_type": "stream",
     "text": [
      "running build_ext\n"
     ]
    }
   ],
   "source": [
    "!python setup.py build_ext -i"
   ]
  },
  {
   "cell_type": "code",
   "execution_count": 0,
   "metadata": {
    "colab": {},
    "colab_type": "code",
    "id": "Qqexvm6qzOEt"
   },
   "outputs": [],
   "source": [
    "from __future__ import absolute_import\n",
    "from __future__ import division\n",
    "from __future__ import print_function\n",
    "# from __future__ import unicode_literals\n",
    "import time\n",
    "import argparse\n",
    "import pyflow\n",
    "\n",
    "def optical_flow(Image1, Image2, Image1_index, Image2_index):\n",
    "  # parser = argparse.ArgumentParser(\n",
    "  #     description='Demo for python wrapper of Coarse2Fine Optical Flow')\n",
    "  # parser.add_argument(\n",
    "  #     '-viz', dest='viz', action='store_true',\n",
    "  #     help='Visualize (i.e. save) output of flow.')\n",
    "  # args = parser.parse_args()\n",
    "\n",
    "  # im1 = np.array(Image1)\n",
    "  # im2 = np.array(Image2)\n",
    "  # im1 = im1.astype(float) / 255.\n",
    "  # im2 = im2.astype(float) / 255.\n",
    "  im1 = np.array(Image1, order='C').astype(float)\n",
    "  im2 = np.array(Image2, order='C').astype(float)\n",
    "\n",
    "  # Flow Options:\n",
    "  alpha = 0.012\n",
    "  ratio = 0.75\n",
    "  minWidth = 20\n",
    "  nOuterFPIterations = 7\n",
    "  nInnerFPIterations = 1\n",
    "  nSORIterations = 30\n",
    "  colType = 0  # 0 or default:RGB, 1:GRAY (but pass gray image with shape (h,w,1))\n",
    "\n",
    "  s = time.time()\n",
    "  u, v, im2W = pyflow.coarse2fine_flow(\n",
    "      im1, im2, alpha, ratio, minWidth, nOuterFPIterations, nInnerFPIterations,\n",
    "      nSORIterations, colType)\n",
    "  e = time.time()\n",
    "  # print('Time Taken: %.2f seconds for image of size (%d, %d, %d)' % (\n",
    "  #     e - s, im1.shape[0], im1.shape[1], im1.shape[2]))\n",
    "  flow = np.concatenate((u[..., None], v[..., None]), axis=2)\n",
    "  np.save('../flow/flow_matrix/outFlow_%s_%s.npy' %(Image1_index, Image2_index), flow)\n",
    "\n",
    "  hsv = np.zeros(im1.shape, dtype=np.uint8)\n",
    "  hsv[:, :, 0] = 255\n",
    "  hsv[:, :, 1] = 255\n",
    "  mag, ang = cv2.cartToPolar(flow[..., 0], flow[..., 1])\n",
    "  hsv[..., 0] = ang * 180 / np.pi / 2\n",
    "  hsv[..., 2] = cv2.normalize(mag, None, 0, 255, cv2.NORM_MINMAX)\n",
    "  rgb = cv2.cvtColor(hsv, cv2.COLOR_HSV2BGR)\n",
    "  cv2.imwrite('../flow/outFlow_%s_%s.png' %(Image1_index, Image2_index), rgb)\n",
    "  im_warped = im2W[:, :, ::-1] * 255\n",
    "  cv2.imwrite('../flow/Warped_%s_%s.jpg' %(Image1_index, Image2_index), im_warped)\n",
    "\n",
    "  return flow, im_warped"
   ]
  },
  {
   "cell_type": "code",
   "execution_count": 0,
   "metadata": {
    "colab": {},
    "colab_type": "code",
    "id": "fXimqhyVdKU7"
   },
   "outputs": [],
   "source": [
    "input_frames_length = len([name for name in os.listdir('../input_content_frames') if os.path.isfile(os.path.join('../input_content_frames', name))])\n",
    "frame_interval = (1,2,4)\n",
    "# for i in range(1, input_frames_length):\n",
    "#   del_1, del_2 = optical_flow(img_convert(load_image('../input_content_frames/frame_%s.jpg' %str(i))), img_convert(load_image('../input_content_frames/frame_%s.jpg' %str(i+1))), str(i), str(i+1))\n",
    "#   print('Forward flow from %d to %d completed!' %(i, i+1))\n",
    "# for i in range(input_frames_length, 1, -1):\n",
    "#   del_1, del_2 = optical_flow(img_convert(load_image('../input_content_frames/frame_%s.jpg' %str(i))), img_convert(load_image('../input_content_frames/frame_%s.jpg' %str(i-1))), str(i), str(i-1))\n",
    "#   print('Backward flow from %d to %d completed!' %(i, i-1))\n",
    "for frame in frame_interval:\n",
    "  for i in range(1, input_frames_length+1-frame):\n",
    "    del_1, del_2 = optical_flow(img_convert(load_image('../input_content_frames/frame_%s.jpg' %str(i))), img_convert(load_image('../input_content_frames/frame_%s.jpg' %str(i+frame))), str(i), str(i+frame))\n",
    "    print('Forward flow from %d to %d completed!' %(i, i+frame))\n",
    "  for i in range(input_frames_length, frame, -1):\n",
    "    del_1, del_2 = optical_flow(img_convert(load_image('../input_content_frames/frame_%s.jpg' %str(i))), img_convert(load_image('../input_content_frames/frame_%s.jpg' %str(i-frame))), str(i), str(i-frame))\n",
    "    print('Backward flow from %d to %d completed!' %(i, i-frame))"
   ]
  },
  {
   "cell_type": "code",
   "execution_count": 0,
   "metadata": {
    "colab": {},
    "colab_type": "code",
    "id": "j8s3lFrvNED8"
   },
   "outputs": [],
   "source": [
    "def warped_flow_and_pixel_weight(Image1_index, Image2_index):\n",
    "  backward_flow = np.load('../flow/flow_matrix/outFlow_%s_%s.npy' %(Image2_index, Image1_index))\n",
    "  h, w, _ = backward_flow.shape\n",
    "  coordinate = np.rint(backward_flow + \n",
    "                       np.concatenate((np.repeat(np.arange(h)+1, w).reshape(h,w,1), \n",
    "                                       np.tile(np.arange(w)+1, h).reshape(h,w,1)), axis=2))\n",
    "  flow = []\n",
    "  forward_flow = np.load('../flow/flow_matrix/outFlow_%s_%s.npy' %(Image1_index, Image2_index))\n",
    "  for i in range(coordinate.shape[0]):\n",
    "    for j in range(coordinate.shape[1]):\n",
    "      x, y = coordinate[i,j]\n",
    "      flow.append(forward_flow[min(h-1,max(0,int(x))),min(w-1,max(0,int(y)))])\n",
    "  warped_flow = np.array(flow).reshape(h,w,-1)\n",
    "  np.save('../flow/flow_matrix/outFlow_%s_%s_warped.npy' %(Image1_index, Image2_index), warped_flow)\n",
    "  disocclusion = np.square(np.linalg.norm(warped_flow + backward_flow, axis=2)) - 0.01*(np.square(np.linalg.norm(warped_flow, axis=2))+np.square(np.linalg.norm(backward_flow, axis=2))) - 0.5 > 0\n",
    "  motion_boundary = np.square(np.gradient(backward_flow, axis=2)[:,:,0])+np.square(np.gradient(backward_flow, axis=2)[:,:,1]) - 0.01*np.square(np.linalg.norm(backward_flow, axis=2)) - 0.002 > 0\n",
    "  np.save('../flow/flow_matrix/pixel_weight_%s_%s.npy' %(Image1_index, Image2_index), (~(disocclusion + motion_boundary)).astype(int))"
   ]
  },
  {
   "cell_type": "code",
   "execution_count": 0,
   "metadata": {
    "colab": {},
    "colab_type": "code",
    "id": "w2usP62ApRK1"
   },
   "outputs": [],
   "source": [
    "frame_interval = (1,2,4)\n",
    "for frame in frame_interval:\n",
    "  for i in range(1, input_frames_length+1-frame):\n",
    "    warped_flow_and_pixel_weight(i, i+frame)\n",
    "    print('Warped flow and pixel weigt between %d and %d completed!' %(i, i+frame))"
   ]
  },
  {
   "cell_type": "code",
   "execution_count": 0,
   "metadata": {
    "colab": {},
    "colab_type": "code",
    "id": "anACF5VGLtgk"
   },
   "outputs": [],
   "source": [
    "def long_pixel_weight(Image2_index):\n",
    "  if Image2_index == 2:\n",
    "    c_iminus1_i = np.load('../flow/flow_matrix/pixel_weight_%s_%s.npy' %(Image2_index-1, Image2_index))\n",
    "    np.save('../flow/flow_matrix/long_pixel_weight_%s_%s.npy' %(Image2_index-1, Image2_index), c_iminus1_i)\n",
    "  elif Image2_index == 3:\n",
    "    c_iminus1_i = np.load('../flow/flow_matrix/pixel_weight_%s_%s.npy' %(Image2_index-1, Image2_index))\n",
    "    np.save('../flow/flow_matrix/long_pixel_weight_%s_%s.npy' %(Image2_index-1, Image2_index), c_iminus1_i)\n",
    "    c_iminus2_i = np.load('../flow/flow_matrix/pixel_weight_%s_%s.npy' %(Image2_index-2, Image2_index))\n",
    "    np.save('../flow/flow_matrix/long_pixel_weight_%s_%s.npy' %(Image2_index-2, Image2_index), np.maximum(c_iminus2_i - c_iminus1_i, np.zeros(c_iminus1_i.shape)))\n",
    "  elif Image2_index == 4:\n",
    "    c_iminus1_i = np.load('../flow/flow_matrix/pixel_weight_%s_%s.npy' %(Image2_index-1, Image2_index))\n",
    "    np.save('../flow/flow_matrix/long_pixel_weight_%s_%s.npy' %(Image2_index-1, Image2_index), c_iminus1_i)\n",
    "    c_iminus2_i = np.load('../flow/flow_matrix/pixel_weight_%s_%s.npy' %(Image2_index-2, Image2_index))\n",
    "    np.save('../flow/flow_matrix/long_pixel_weight_%s_%s.npy' %(Image2_index-2, Image2_index), np.maximum(c_iminus2_i - c_iminus1_i, np.zeros(c_iminus1_i.shape)))\n",
    "  else:\n",
    "    c_iminus1_i = np.load('../flow/flow_matrix/pixel_weight_%s_%s.npy' %(Image2_index-1, Image2_index))\n",
    "    np.save('../flow/flow_matrix/long_pixel_weight_%s_%s.npy' %(Image2_index-1, Image2_index), c_iminus1_i)\n",
    "    c_iminus2_i = np.load('../flow/flow_matrix/pixel_weight_%s_%s.npy' %(Image2_index-2, Image2_index))\n",
    "    np.save('../flow/flow_matrix/long_pixel_weight_%s_%s.npy' %(Image2_index-2, Image2_index), np.maximum(c_iminus2_i - c_iminus1_i, np.zeros(c_iminus1_i.shape))) \n",
    "    c_iminus4_i = np.load('../flow/flow_matrix/pixel_weight_%s_%s.npy' %(Image2_index-4, Image2_index))\n",
    "    np.save('../flow/flow_matrix/long_pixel_weight_%s_%s.npy' %(Image2_index-4, Image2_index), np.maximum(c_iminus4_i - c_iminus2_i - c_iminus1_i, np.zeros(c_iminus1_i.shape)))"
   ]
  },
  {
   "cell_type": "code",
   "execution_count": 0,
   "metadata": {
    "colab": {},
    "colab_type": "code",
    "id": "2nDDrpu6t_DR"
   },
   "outputs": [],
   "source": [
    "for frame in range(2, input_frames_length+1):\n",
    "  long_pixel_weight(frame)\n",
    "  print('Long pixel weights for frame %d completed!' %frame)"
   ]
  },
  {
   "cell_type": "code",
   "execution_count": 0,
   "metadata": {
    "colab": {},
    "colab_type": "code",
    "id": "kMZp6q2r3FZf"
   },
   "outputs": [],
   "source": [
    "def warp_flow(Image1_index, Image2_index):\n",
    "  flow = np.load('../flow/flow_matrix/outFlow_%s_%s_warped.npy' %(Image1_index, Image2_index))\n",
    "  Image1 = img_convert(load_image('../output_style_transferred_frames/st_frame_%d.jpg' %Image1_index))\n",
    "  im1 = np.array(Image1, order='C').astype(float)\n",
    "  h, w = flow.shape[:2]\n",
    "  flow = -flow\n",
    "  flow[:,:,0] += np.arange(w)\n",
    "  flow[:,:,1] += np.arange(h)[:,np.newaxis]\n",
    "  flow = 2*flow/(flow.max(axis=(0,1)) - flow.min(axis=(0,1)))-1\n",
    "  warped_frame = torch.nn.functional.grid_sample(torch.from_numpy(im1)[np.newaxis, :].permute(0, 3, 1, 2), torch.from_numpy(flow)[np.newaxis, :])\n",
    "  plt.imsave('../input_content_frames/warped/frame_%s_%s_warped.jpg' %(Image1_index, Image2_index), warped_frame.permute(0, 2, 3, 1).squeeze().numpy())\n",
    "  # return warped_frame.float()"
   ]
  },
  {
   "cell_type": "code",
   "execution_count": 0,
   "metadata": {
    "colab": {},
    "colab_type": "code",
    "id": "8ag1fOcQORyl"
   },
   "outputs": [],
   "source": [
    "def apply_style_transfer(content_img_dir, style_img_dir, style_img_name, output_img_dir):\n",
    "    content_image_count = 1\n",
    "    # style_image_count = 1\n",
    "\n",
    "    # Retrieve the total number of content image frames and style frames:\n",
    "    num_content_imgs = len([name for name in os.listdir('../%s' %content_img_dir) if os.path.isfile(os.path.join('../', content_img_dir, name))])\n",
    "    #num_content_imgs = 5\n",
    "    #num_style_imgs = len([name for name in os.listdir(style_img_dir) if os.path.isfile(os.path.join(style_img_dir, name))])\n",
    "    # Divide the style images equally among the input frames:\n",
    "    #frames_with_current_style = num_content_imgs // (num_style_imgs - 1)\n",
    "\n",
    "    # Since there are 249 frames in the test video, you can use for loop, \n",
    "    # but prefer using while to avoid using magic numbers (hardcoding)\n",
    "    while(content_image_count <= 27):\n",
    "    #for i in range(1, 250):\n",
    "        # Load in the content and style images and move them to the GPU if available:\n",
    "        content_image = load_image('../' + content_img_dir + '/frame_' + str(content_image_count) + '.jpg').to(device)\n",
    "        # if(content_image_count % frames_with_current_style == 0):\n",
    "        #     style_image_count += 1\n",
    "\n",
    "        style_image = load_image('../' + style_img_dir + '/' + style_img_name, shape=content_image.shape[-2:]).to(device)\n",
    "\n",
    "        # Retrieve the features:\n",
    "        content_features = get_features(content_image, styleTransferModel)\n",
    "        style_features = get_features(style_image, styleTransferModel)\n",
    "\n",
    "        # Calculate the gram matrix for each of our style representations:\n",
    "        style_grams = {layer: gram_matrix(style_features[layer]) for layer in style_features}\n",
    "\n",
    "        # We create a 'target image'. Note that, we are starting with the content image\n",
    "        # and cloning it instead of creating an image with white filter:\n",
    "        # We want to update our image based on the total loss and so we will turn on the gradients:\n",
    "        if content_image_count == 1:\n",
    "          target_image = load_image('../output_style_transferred_frames_iid/st_frame_%d.jpg' % content_image_count, shape=content_image.shape[-2:]).to(device)\n",
    "          target_image = target_image.clone().requires_grad_(True).to(device)\n",
    "        else:\n",
    "          warp_flow(content_image_count-1, content_image_count)\n",
    "          if content_image_count-2 > 0:\n",
    "            warp_flow(content_image_count-2, content_image_count)\n",
    "          if content_image_count-4 > 0:\n",
    "            warp_flow(content_image_count-4, content_image_count)\n",
    "          # target_image = content_image.clone().requires_grad_(True).to(device)\n",
    "          target_image = load_image('../output_style_transferred_frames_iid/st_frame_%d.jpg' % content_image_count, shape=content_image.shape[-2:]).to(device)\n",
    "          target_image = target_image.clone().requires_grad_(True).to(device)\n",
    "\n",
    "        # LOSS AND WEIGHTS:\n",
    "        # We assign weights for each style layer. Weighting earlier layers more will result in *larger* style artifacts:\n",
    "        # Notice we are excluding `conv4_2`, i.e. our content representation:\n",
    "        style_weights = {'conv1_1': 0.25,  # More style will come from earlier layers as they are weighted more\n",
    "                         'conv2_1': 0.25,\n",
    "                         'conv3_1': 0.25,\n",
    "                         'conv4_1': 0.25,\n",
    "                         'conv5_1': 0}  # Less style from later layers\n",
    "\n",
    "        content_weight = 50  # alpha\n",
    "        style_weight = 150  # beta, 1e6 = 1000000.0\n",
    "        longterm_weight = 750 # gamma\n",
    "\n",
    "        # Iteration hyperparameters:\n",
    "        # Update the target image (as we update the model.parameters() in the classifiers):\n",
    "        optimizer = optim.Adam([target_image], lr=0.01)\n",
    "        \n",
    "        for ii in range(1, 2):\n",
    "            # Get the features from the target image:\n",
    "            target_features = get_features(target_image, styleTransferModel)\n",
    "            \n",
    "            # 1. Calculate the content loss:\n",
    "            batch_size, depth, height, width = content_features['conv4_1'].shape\n",
    "            content_loss = torch.mean((target_features['conv4_1'] - content_features['conv4_1']) ** 2)\n",
    "            \n",
    "            # 2. Calculate the style loss:\n",
    "            style_loss = 0\n",
    "            # iterate through each style layer and add to the style loss:\n",
    "            for layer in style_weights:\n",
    "                # Get the \"target\" style representation for the layer:\n",
    "                target_feature = target_features[layer]\n",
    "                batch_size, depth, height, width = target_feature.shape\n",
    "\n",
    "                # Calculate the target gram matrix:\n",
    "                target_gram = gram_matrix(target_feature)\n",
    "\n",
    "                # Get the \"style\" from the style gram matrices computed earlier:\n",
    "                style_gram = style_grams[layer]\n",
    "\n",
    "                # the style loss for one layer, weighted appropriately:\n",
    "                layer_style_loss = style_weights[layer] * torch.mean((target_gram - style_gram) ** 2)\n",
    "\n",
    "                # Add to the style loss:\n",
    "                style_loss += layer_style_loss / (depth * height * width)\n",
    "\n",
    "            # 3. Calculate the long-term temporal loss:\n",
    "            longterm_loss = 0\n",
    "            if content_image_count == 2:\n",
    "              batch_size, depth, height, width = load_image('../' + content_img_dir + '/warped/frame_%d_%d_warped.jpg' %(content_image_count-1, content_image_count)).shape\n",
    "              temporal_loss = torch.sum(((target_image - load_image('../' + content_img_dir + '/warped/frame_%d_%d_warped.jpg' %(content_image_count-1, content_image_count)).to(device))**2) * \n",
    "                                        (torch.from_numpy(np.repeat(np.load('../flow/flow_matrix/long_pixel_weight_%d_%d.npy' %(content_image_count-1, content_image_count))[:,:,np.newaxis], \n",
    "                                                                    depth, axis=2)).to(device).unsqueeze(0).permute(0,3,1,2))) / (depth * height * width)\n",
    "              longterm_loss += temporal_loss\n",
    "            if ((content_image_count == 3) | (content_image_count == 4)):\n",
    "              batch_size, depth, height, width = load_image('../' + content_img_dir + '/warped/frame_%d_%d_warped.jpg' %(content_image_count-1, content_image_count)).shape\n",
    "              for frame_gap in (1,2):\n",
    "                temporal_loss = torch.sum(((target_image - load_image('../' + content_img_dir + '/warped/frame_%d_%d_warped.jpg' %(content_image_count-frame_gap, content_image_count)).to(device))**2) * \n",
    "                                        (torch.from_numpy(np.repeat(np.load('../flow/flow_matrix/long_pixel_weight_%d_%d.npy' %(content_image_count-frame_gap, content_image_count))[:,:,np.newaxis], \n",
    "                                                                    depth, axis=2)).to(device).unsqueeze(0).permute(0,3,1,2))) / (depth * height * width)\n",
    "                longterm_loss += temporal_loss\n",
    "            if content_image_count > 4:\n",
    "              batch_size, depth, height, width = load_image('../' + content_img_dir + '/warped/frame_%d_%d_warped.jpg' %(content_image_count-1, content_image_count)).shape\n",
    "              for frame_gap in (1,2,4):\n",
    "                temporal_loss = torch.sum(((target_image - load_image('../' + content_img_dir + '/warped/frame_%d_%d_warped.jpg' %(content_image_count-frame_gap, content_image_count)).to(device))**2) * \n",
    "                                        (torch.from_numpy(np.repeat(np.load('../flow/flow_matrix/long_pixel_weight_%d_%d.npy' %(content_image_count-frame_gap, content_image_count))[:,:,np.newaxis], \n",
    "                                                                    depth, axis=2)).to(device).unsqueeze(0).permute(0,3,1,2))) / (depth * height * width)\n",
    "                longterm_loss += temporal_loss\n",
    "\n",
    "            # Calculate the total loss:\n",
    "            total_loss = content_weight * content_loss + style_weight * style_loss + longterm_weight * longterm_loss\n",
    "            print(\"Frame %s Total loss: \" %content_image_count, total_loss.item())\n",
    "\n",
    "        print(\"completed style transfer on image: \", content_image_count)\n",
    "        content_image_count += 1\n",
    "        # if(content_image_count <= 250):\n",
    "        #     continue"
   ]
  },
  {
   "cell_type": "code",
   "execution_count": 0,
   "metadata": {
    "colab": {},
    "colab_type": "code",
    "id": "jxfMFo9d5rOp"
   },
   "outputs": [],
   "source": []
  },
  {
   "cell_type": "code",
   "execution_count": 62,
   "metadata": {
    "colab": {
     "base_uri": "https://localhost:8080/",
     "height": 1000
    },
    "colab_type": "code",
    "executionInfo": {
     "elapsed": 149718,
     "status": "error",
     "timestamp": 1576389327507,
     "user": {
      "displayName": "Fanghao Zhong",
      "photoUrl": "",
      "userId": "10019608044960315541"
     },
     "user_tz": 300
    },
    "id": "qtDaZolZ5reA",
    "outputId": "11bfd631-1e33-4306-fd71-6d98628122d3"
   },
   "outputs": [
    {
     "name": "stdout",
     "output_type": "stream",
     "text": [
      "completed style transfer on image:  1\n",
      "completed style transfer on image:  2\n",
      "completed style transfer on image:  3\n",
      "completed style transfer on image:  4\n",
      "completed style transfer on image:  5\n",
      "completed style transfer on image:  6\n",
      "completed style transfer on image:  7\n",
      "completed style transfer on image:  8\n",
      "completed style transfer on image:  9\n",
      "completed style transfer on image:  10\n",
      "completed style transfer on image:  11\n",
      "completed style transfer on image:  12\n",
      "completed style transfer on image:  13\n",
      "completed style transfer on image:  14\n",
      "completed style transfer on image:  15\n",
      "completed style transfer on image:  16\n",
      "completed style transfer on image:  17\n",
      "completed style transfer on image:  18\n",
      "completed style transfer on image:  19\n",
      "completed style transfer on image:  20\n",
      "completed style transfer on image:  21\n",
      "completed style transfer on image:  22\n",
      "completed style transfer on image:  23\n",
      "completed style transfer on image:  24\n",
      "completed style transfer on image:  25\n",
      "completed style transfer on image:  26\n",
      "completed style transfer on image:  27\n",
      "completed style transfer on image:  28\n",
      "completed style transfer on image:  29\n",
      "completed style transfer on image:  30\n",
      "completed style transfer on image:  31\n",
      "completed style transfer on image:  32\n",
      "completed style transfer on image:  33\n",
      "completed style transfer on image:  34\n",
      "completed style transfer on image:  35\n",
      "completed style transfer on image:  36\n",
      "completed style transfer on image:  37\n",
      "completed style transfer on image:  38\n",
      "completed style transfer on image:  39\n",
      "completed style transfer on image:  40\n",
      "completed style transfer on image:  41\n",
      "completed style transfer on image:  42\n",
      "completed style transfer on image:  43\n",
      "completed style transfer on image:  44\n",
      "completed style transfer on image:  45\n",
      "completed style transfer on image:  46\n",
      "completed style transfer on image:  47\n",
      "completed style transfer on image:  48\n",
      "completed style transfer on image:  49\n",
      "completed style transfer on image:  50\n",
      "completed style transfer on image:  51\n",
      "completed style transfer on image:  52\n",
      "completed style transfer on image:  53\n",
      "completed style transfer on image:  54\n",
      "completed style transfer on image:  55\n",
      "completed style transfer on image:  56\n",
      "completed style transfer on image:  57\n",
      "completed style transfer on image:  58\n",
      "completed style transfer on image:  59\n",
      "completed style transfer on image:  60\n",
      "completed style transfer on image:  61\n",
      "completed style transfer on image:  62\n",
      "completed style transfer on image:  63\n",
      "completed style transfer on image:  64\n",
      "completed style transfer on image:  65\n",
      "completed style transfer on image:  66\n",
      "completed style transfer on image:  67\n",
      "completed style transfer on image:  68\n",
      "completed style transfer on image:  69\n",
      "completed style transfer on image:  70\n",
      "completed style transfer on image:  71\n",
      "completed style transfer on image:  72\n",
      "completed style transfer on image:  73\n",
      "completed style transfer on image:  74\n",
      "completed style transfer on image:  75\n",
      "completed style transfer on image:  76\n",
      "completed style transfer on image:  77\n",
      "completed style transfer on image:  78\n",
      "completed style transfer on image:  79\n",
      "completed style transfer on image:  80\n",
      "completed style transfer on image:  81\n",
      "completed style transfer on image:  82\n",
      "completed style transfer on image:  83\n",
      "completed style transfer on image:  84\n",
      "completed style transfer on image:  85\n",
      "completed style transfer on image:  86\n",
      "completed style transfer on image:  87\n",
      "completed style transfer on image:  88\n",
      "completed style transfer on image:  89\n",
      "completed style transfer on image:  90\n",
      "completed style transfer on image:  91\n",
      "completed style transfer on image:  92\n",
      "completed style transfer on image:  93\n",
      "completed style transfer on image:  94\n",
      "completed style transfer on image:  95\n",
      "completed style transfer on image:  96\n",
      "completed style transfer on image:  97\n",
      "completed style transfer on image:  98\n",
      "completed style transfer on image:  99\n",
      "completed style transfer on image:  100\n",
      "completed style transfer on image:  101\n",
      "completed style transfer on image:  102\n",
      "completed style transfer on image:  103\n",
      "completed style transfer on image:  104\n",
      "completed style transfer on image:  105\n",
      "completed style transfer on image:  106\n",
      "completed style transfer on image:  107\n",
      "completed style transfer on image:  108\n",
      "completed style transfer on image:  109\n",
      "completed style transfer on image:  110\n",
      "completed style transfer on image:  111\n",
      "completed style transfer on image:  112\n",
      "completed style transfer on image:  113\n",
      "completed style transfer on image:  114\n",
      "completed style transfer on image:  115\n",
      "completed style transfer on image:  116\n",
      "completed style transfer on image:  117\n",
      "completed style transfer on image:  118\n",
      "completed style transfer on image:  119\n",
      "completed style transfer on image:  120\n",
      "completed style transfer on image:  121\n",
      "completed style transfer on image:  122\n",
      "completed style transfer on image:  123\n",
      "completed style transfer on image:  124\n",
      "completed style transfer on image:  125\n",
      "completed style transfer on image:  126\n",
      "completed style transfer on image:  127\n",
      "completed style transfer on image:  128\n",
      "completed style transfer on image:  129\n",
      "completed style transfer on image:  130\n",
      "completed style transfer on image:  131\n",
      "completed style transfer on image:  132\n",
      "completed style transfer on image:  133\n",
      "completed style transfer on image:  134\n",
      "completed style transfer on image:  135\n",
      "completed style transfer on image:  136\n",
      "completed style transfer on image:  137\n",
      "completed style transfer on image:  138\n",
      "completed style transfer on image:  139\n",
      "completed style transfer on image:  140\n",
      "completed style transfer on image:  141\n",
      "completed style transfer on image:  142\n",
      "completed style transfer on image:  143\n",
      "completed style transfer on image:  144\n",
      "completed style transfer on image:  145\n",
      "completed style transfer on image:  146\n",
      "completed style transfer on image:  147\n",
      "completed style transfer on image:  148\n",
      "completed style transfer on image:  149\n",
      "completed style transfer on image:  150\n",
      "completed style transfer on image:  151\n",
      "completed style transfer on image:  152\n",
      "completed style transfer on image:  153\n",
      "completed style transfer on image:  154\n",
      "completed style transfer on image:  155\n",
      "completed style transfer on image:  156\n",
      "completed style transfer on image:  157\n",
      "completed style transfer on image:  158\n",
      "completed style transfer on image:  159\n",
      "completed style transfer on image:  160\n",
      "completed style transfer on image:  161\n",
      "completed style transfer on image:  162\n",
      "completed style transfer on image:  163\n",
      "completed style transfer on image:  164\n",
      "completed style transfer on image:  165\n",
      "completed style transfer on image:  166\n",
      "completed style transfer on image:  167\n",
      "completed style transfer on image:  168\n",
      "completed style transfer on image:  169\n",
      "completed style transfer on image:  170\n",
      "completed style transfer on image:  171\n",
      "completed style transfer on image:  172\n",
      "completed style transfer on image:  173\n",
      "completed style transfer on image:  174\n",
      "completed style transfer on image:  175\n",
      "completed style transfer on image:  176\n",
      "completed style transfer on image:  177\n",
      "completed style transfer on image:  178\n",
      "completed style transfer on image:  179\n",
      "completed style transfer on image:  180\n",
      "completed style transfer on image:  181\n",
      "completed style transfer on image:  182\n",
      "completed style transfer on image:  183\n",
      "completed style transfer on image:  184\n",
      "completed style transfer on image:  185\n",
      "completed style transfer on image:  186\n",
      "completed style transfer on image:  187\n",
      "completed style transfer on image:  188\n",
      "completed style transfer on image:  189\n",
      "completed style transfer on image:  190\n",
      "completed style transfer on image:  191\n",
      "completed style transfer on image:  192\n",
      "completed style transfer on image:  193\n",
      "completed style transfer on image:  194\n",
      "completed style transfer on image:  195\n",
      "completed style transfer on image:  196\n",
      "completed style transfer on image:  197\n",
      "completed style transfer on image:  198\n",
      "completed style transfer on image:  199\n",
      "completed style transfer on image:  200\n",
      "completed style transfer on image:  201\n",
      "completed style transfer on image:  202\n",
      "completed style transfer on image:  203\n",
      "completed style transfer on image:  204\n",
      "completed style transfer on image:  205\n",
      "completed style transfer on image:  206\n",
      "completed style transfer on image:  207\n",
      "completed style transfer on image:  208\n",
      "completed style transfer on image:  209\n",
      "completed style transfer on image:  210\n",
      "completed style transfer on image:  211\n",
      "completed style transfer on image:  212\n",
      "completed style transfer on image:  213\n",
      "completed style transfer on image:  214\n",
      "completed style transfer on image:  215\n"
     ]
    },
    {
     "ename": "FileNotFoundError",
     "evalue": "ignored",
     "output_type": "error",
     "traceback": [
      "\u001b[0;31m---------------------------------------------------------------------------\u001b[0m",
      "\u001b[0;31mFileNotFoundError\u001b[0m                         Traceback (most recent call last)",
      "\u001b[0;32m<ipython-input-62-9786cfbac726>\u001b[0m in \u001b[0;36m<module>\u001b[0;34m()\u001b[0m\n\u001b[1;32m     13\u001b[0m     \u001b[0mcontent_image\u001b[0m \u001b[0;34m=\u001b[0m \u001b[0mload_image\u001b[0m\u001b[0;34m(\u001b[0m\u001b[0;34m'../'\u001b[0m \u001b[0;34m+\u001b[0m \u001b[0mcontent_img_dir\u001b[0m \u001b[0;34m+\u001b[0m \u001b[0;34m'/frame_'\u001b[0m \u001b[0;34m+\u001b[0m \u001b[0mstr\u001b[0m\u001b[0;34m(\u001b[0m\u001b[0mcontent_image_count\u001b[0m\u001b[0;34m)\u001b[0m \u001b[0;34m+\u001b[0m \u001b[0;34m'.jpg'\u001b[0m\u001b[0;34m)\u001b[0m\u001b[0;34m.\u001b[0m\u001b[0mto\u001b[0m\u001b[0;34m(\u001b[0m\u001b[0mdevice\u001b[0m\u001b[0;34m)\u001b[0m\u001b[0;34m\u001b[0m\u001b[0;34m\u001b[0m\u001b[0m\n\u001b[1;32m     14\u001b[0m     \u001b[0mstyle_image\u001b[0m \u001b[0;34m=\u001b[0m \u001b[0mload_image\u001b[0m\u001b[0;34m(\u001b[0m\u001b[0;34m'../'\u001b[0m \u001b[0;34m+\u001b[0m \u001b[0;34m'input_style_frames'\u001b[0m \u001b[0;34m+\u001b[0m \u001b[0;34m'/'\u001b[0m \u001b[0;34m+\u001b[0m \u001b[0;34m'style_3.jpg'\u001b[0m\u001b[0;34m,\u001b[0m \u001b[0mshape\u001b[0m\u001b[0;34m=\u001b[0m\u001b[0mcontent_image\u001b[0m\u001b[0;34m.\u001b[0m\u001b[0mshape\u001b[0m\u001b[0;34m[\u001b[0m\u001b[0;34m-\u001b[0m\u001b[0;36m2\u001b[0m\u001b[0;34m:\u001b[0m\u001b[0;34m]\u001b[0m\u001b[0;34m)\u001b[0m\u001b[0;34m.\u001b[0m\u001b[0mto\u001b[0m\u001b[0;34m(\u001b[0m\u001b[0mdevice\u001b[0m\u001b[0;34m)\u001b[0m\u001b[0;34m\u001b[0m\u001b[0;34m\u001b[0m\u001b[0m\n\u001b[0;32m---> 15\u001b[0;31m     \u001b[0mtarget_image\u001b[0m \u001b[0;34m=\u001b[0m \u001b[0mload_image\u001b[0m\u001b[0;34m(\u001b[0m\u001b[0;34m'../output_style_transferred_frames/st_frame_%d.jpg'\u001b[0m \u001b[0;34m%\u001b[0m \u001b[0mcontent_image_count\u001b[0m\u001b[0;34m,\u001b[0m \u001b[0mshape\u001b[0m\u001b[0;34m=\u001b[0m\u001b[0mcontent_image\u001b[0m\u001b[0;34m.\u001b[0m\u001b[0mshape\u001b[0m\u001b[0;34m[\u001b[0m\u001b[0;34m-\u001b[0m\u001b[0;36m2\u001b[0m\u001b[0;34m:\u001b[0m\u001b[0;34m]\u001b[0m\u001b[0;34m)\u001b[0m\u001b[0;34m.\u001b[0m\u001b[0mto\u001b[0m\u001b[0;34m(\u001b[0m\u001b[0mdevice\u001b[0m\u001b[0;34m)\u001b[0m\u001b[0;34m\u001b[0m\u001b[0;34m\u001b[0m\u001b[0m\n\u001b[0m\u001b[1;32m     16\u001b[0m     \u001b[0;31m#target_image = load_image('../output_frames_with_temporal/st_frame_%d.jpg' % content_image_count, shape=content_image.shape[-2:]).to(device)\u001b[0m\u001b[0;34m\u001b[0m\u001b[0;34m\u001b[0m\u001b[0;34m\u001b[0m\u001b[0m\n\u001b[1;32m     17\u001b[0m \u001b[0;34m\u001b[0m\u001b[0m\n",
      "\u001b[0;32m<ipython-input-6-4597fde2e02f>\u001b[0m in \u001b[0;36mload_image\u001b[0;34m(image_path, max_size, shape)\u001b[0m\n\u001b[1;32m      2\u001b[0m     \u001b[0;31m# Load in an image and make sure that it is <= 400 pixels in the X-Y dimension:\u001b[0m\u001b[0;34m\u001b[0m\u001b[0;34m\u001b[0m\u001b[0;34m\u001b[0m\u001b[0m\n\u001b[1;32m      3\u001b[0m     \u001b[0;31m# Convert the image to RGB:\u001b[0m\u001b[0;34m\u001b[0m\u001b[0;34m\u001b[0m\u001b[0;34m\u001b[0m\u001b[0m\n\u001b[0;32m----> 4\u001b[0;31m     \u001b[0mimage\u001b[0m \u001b[0;34m=\u001b[0m \u001b[0mImage\u001b[0m\u001b[0;34m.\u001b[0m\u001b[0mopen\u001b[0m\u001b[0;34m(\u001b[0m\u001b[0mimage_path\u001b[0m\u001b[0;34m)\u001b[0m\u001b[0;34m.\u001b[0m\u001b[0mconvert\u001b[0m\u001b[0;34m(\u001b[0m\u001b[0;34m'RGB'\u001b[0m\u001b[0;34m)\u001b[0m\u001b[0;34m\u001b[0m\u001b[0;34m\u001b[0m\u001b[0m\n\u001b[0m\u001b[1;32m      5\u001b[0m \u001b[0;34m\u001b[0m\u001b[0m\n\u001b[1;32m      6\u001b[0m     \u001b[0;31m# Resize the image as a large image will slow down processing:\u001b[0m\u001b[0;34m\u001b[0m\u001b[0;34m\u001b[0m\u001b[0;34m\u001b[0m\u001b[0m\n",
      "\u001b[0;32m/usr/local/lib/python3.6/dist-packages/PIL/Image.py\u001b[0m in \u001b[0;36mopen\u001b[0;34m(fp, mode)\u001b[0m\n\u001b[1;32m   2528\u001b[0m \u001b[0;34m\u001b[0m\u001b[0m\n\u001b[1;32m   2529\u001b[0m     \u001b[0;32mif\u001b[0m \u001b[0mfilename\u001b[0m\u001b[0;34m:\u001b[0m\u001b[0;34m\u001b[0m\u001b[0;34m\u001b[0m\u001b[0m\n\u001b[0;32m-> 2530\u001b[0;31m         \u001b[0mfp\u001b[0m \u001b[0;34m=\u001b[0m \u001b[0mbuiltins\u001b[0m\u001b[0;34m.\u001b[0m\u001b[0mopen\u001b[0m\u001b[0;34m(\u001b[0m\u001b[0mfilename\u001b[0m\u001b[0;34m,\u001b[0m \u001b[0;34m\"rb\"\u001b[0m\u001b[0;34m)\u001b[0m\u001b[0;34m\u001b[0m\u001b[0;34m\u001b[0m\u001b[0m\n\u001b[0m\u001b[1;32m   2531\u001b[0m         \u001b[0mexclusive_fp\u001b[0m \u001b[0;34m=\u001b[0m \u001b[0;32mTrue\u001b[0m\u001b[0;34m\u001b[0m\u001b[0;34m\u001b[0m\u001b[0m\n\u001b[1;32m   2532\u001b[0m \u001b[0;34m\u001b[0m\u001b[0m\n",
      "\u001b[0;31mFileNotFoundError\u001b[0m: [Errno 2] No such file or directory: '../output_style_transferred_frames/st_frame_216.jpg'"
     ]
    }
   ],
   "source": [
    "content_image_count = 1\n",
    "content_image = load_image('../input_content_frames/frame_1.jpg')\n",
    "content_img_dir = 'input_content_frames'\n",
    "num_content_imgs = len([name for name in os.listdir('../%s' %content_img_dir) if os.path.isfile(os.path.join('../', content_img_dir, name))])\n",
    "longterm_weight = 750 # gamma\n",
    "content_weight = 50  # alpha\n",
    "style_weight = 150\n",
    "\n",
    "tot_loss = []\n",
    "temp_loss = []\n",
    "\n",
    "while(content_image_count <= num_content_imgs):\n",
    "    content_image = load_image('../' + content_img_dir + '/frame_' + str(content_image_count) + '.jpg').to(device)\n",
    "    style_image = load_image('../' + 'input_style_frames' + '/' + 'style_3.jpg', shape=content_image.shape[-2:]).to(device)\n",
    "    target_image = load_image('../output_style_transferred_frames/st_frame_%d.jpg' % content_image_count, shape=content_image.shape[-2:]).to(device)\n",
    "    #target_image = load_image('../output_frames_with_temporal/st_frame_%d.jpg' % content_image_count, shape=content_image.shape[-2:]).to(device)\n",
    "\n",
    "    content_features = get_features(content_image, styleTransferModel)\n",
    "    style_features = get_features(style_image, styleTransferModel)\n",
    "    target_features = get_features(target_image, styleTransferModel)\n",
    "    \n",
    "    style_grams = {layer: gram_matrix(style_features[layer]) for layer in style_features}\n",
    "\n",
    "    style_weights = {'conv1_1': 0.25,'conv2_1': 0.25,'conv3_1': 0.25,'conv4_1': 0.25,'conv5_1': 0} \n",
    "\n",
    "    # 1. Calculate the content loss:\n",
    "    batch_size, depth, height, width = content_features['conv4_1'].shape\n",
    "    content_loss = torch.mean((target_features['conv4_1'] - content_features['conv4_1']) ** 2)\n",
    "\n",
    "    style_loss = torch.tensor(0.)\n",
    "    # iterate through each style layer and add to the style loss:\n",
    "    for layer in style_weights:\n",
    "        # Get the \"target\" style representation for the layer:\n",
    "        target_feature = target_features[layer]\n",
    "        batch_size, depth, height, width = target_feature.shape\n",
    "\n",
    "        # Calculate the target gram matrix:\n",
    "        target_gram = gram_matrix(target_feature)\n",
    "\n",
    "        # Get the \"style\" from the style gram matrices computed earlier:\n",
    "        style_gram = style_grams[layer]\n",
    "\n",
    "        # the style loss for one layer, weighted appropriately:\n",
    "        layer_style_loss = style_weights[layer] * torch.mean((target_gram - style_gram) ** 2)\n",
    "\n",
    "        # Add to the style loss:\n",
    "        style_loss += layer_style_loss / (depth * height * width)\n",
    "\n",
    "    # 3. Calculate the long-term temporal loss:\n",
    "    longterm_loss = torch.tensor(0.)\n",
    "    if content_image_count == 2:\n",
    "      batch_size, depth, height, width = load_image('../' + content_img_dir + '/warped/frame_%d_%d_warped.jpg' %(content_image_count-1, content_image_count)).shape\n",
    "      temporal_loss = torch.sum(((target_image - load_image('../' + content_img_dir + '/warped/frame_%d_%d_warped.jpg' %(content_image_count-1, content_image_count)).to(device))**2) * \n",
    "                                (torch.from_numpy(np.repeat(np.load('../flow/flow_matrix/long_pixel_weight_%d_%d.npy' %(content_image_count-1, content_image_count))[:,:,np.newaxis], \n",
    "                                                            depth, axis=2)).to(device).unsqueeze(0).permute(0,3,1,2))) / (depth * height * width)\n",
    "      longterm_loss += temporal_loss\n",
    "    if ((content_image_count == 3) | (content_image_count == 4)):\n",
    "      batch_size, depth, height, width = load_image('../' + content_img_dir + '/warped/frame_%d_%d_warped.jpg' %(content_image_count-1, content_image_count)).shape\n",
    "      for frame_gap in (1,2):\n",
    "        temporal_loss = torch.sum(((target_image - load_image('../' + content_img_dir + '/warped/frame_%d_%d_warped.jpg' %(content_image_count-frame_gap, content_image_count)).to(device))**2) * \n",
    "                                (torch.from_numpy(np.repeat(np.load('../flow/flow_matrix/long_pixel_weight_%d_%d.npy' %(content_image_count-frame_gap, content_image_count))[:,:,np.newaxis], \n",
    "                                                            depth, axis=2)).to(device).unsqueeze(0).permute(0,3,1,2))) / (depth * height * width)\n",
    "        longterm_loss += temporal_loss\n",
    "    if content_image_count > 4:\n",
    "      batch_size, depth, height, width = load_image('../' + content_img_dir + '/warped/frame_%d_%d_warped.jpg' %(content_image_count-1, content_image_count)).shape\n",
    "      for frame_gap in (1,2,4):\n",
    "        temporal_loss = torch.sum(((target_image - load_image('../' + content_img_dir + '/warped/frame_%d_%d_warped.jpg' %(content_image_count-frame_gap, content_image_count)).to(device))**2) * \n",
    "                                (torch.from_numpy(np.repeat(np.load('../flow/flow_matrix/long_pixel_weight_%d_%d.npy' %(content_image_count-frame_gap, content_image_count))[:,:,np.newaxis], \n",
    "                                                            depth, axis=2)).to(device).unsqueeze(0).permute(0,3,1,2))) / (depth * height * width)\n",
    "        longterm_loss += temporal_loss\n",
    "\n",
    "    tot_loss.append((longterm_loss*longterm_weight+content_loss*content_weight+style_loss*style_weight).item()) \n",
    "    temp_loss.append(longterm_loss.item()*longterm_weight)   \n",
    "\n",
    "    print(\"completed style transfer on image: \", content_image_count)\n",
    "    content_image_count += 1"
   ]
  },
  {
   "cell_type": "code",
   "execution_count": 0,
   "metadata": {
    "colab": {},
    "colab_type": "code",
    "id": "NOqL1GpI4vud"
   },
   "outputs": [],
   "source": [
    "total_loss_dep = tot_loss\n",
    "temp_loss_dep = temp_loss"
   ]
  },
  {
   "cell_type": "code",
   "execution_count": 0,
   "metadata": {
    "colab": {},
    "colab_type": "code",
    "id": "fjW_kZpbA546"
   },
   "outputs": [],
   "source": [
    "temp_loss_ind = temp_loss\n",
    "total_loss_ind = tot_loss"
   ]
  },
  {
   "cell_type": "code",
   "execution_count": 66,
   "metadata": {
    "colab": {
     "base_uri": "https://localhost:8080/",
     "height": 295
    },
    "colab_type": "code",
    "executionInfo": {
     "elapsed": 509,
     "status": "ok",
     "timestamp": 1576389988232,
     "user": {
      "displayName": "Fanghao Zhong",
      "photoUrl": "",
      "userId": "10019608044960315541"
     },
     "user_tz": 300
    },
    "id": "uAf2QYPq80M7",
    "outputId": "261fccfe-a75e-4de3-f316-d112b9cc46df"
   },
   "outputs": [
    {
     "data": {
      "image/png": "[encoded data removed]",
      "text/plain": [
       "<Figure size 432x288 with 1 Axes>"
      ]
     },
     "metadata": {
      "tags": []
     },
     "output_type": "display_data"
    }
   ],
   "source": [
    "plt.plot(temp_loss_dep[:210], label='dependency temp loss')\n",
    "plt.plot(total_loss_dep[:210], label='dependency total loss')\n",
    "plt.plot(total_loss_ind[:210], label='independent total loss')\n",
    "plt.plot(temp_loss_ind[:210], label='independent temp loss')\n",
    "plt.xlabel('Frame')\n",
    "plt.ylabel('Loss')\n",
    "plt.title('Total/temporal loss comparison')\n",
    "plt.legend()\n",
    "plt.show()"
   ]
  },
  {
   "cell_type": "code",
   "execution_count": 69,
   "metadata": {
    "colab": {
     "base_uri": "https://localhost:8080/",
     "height": 295
    },
    "colab_type": "code",
    "executionInfo": {
     "elapsed": 559,
     "status": "ok",
     "timestamp": 1576390168950,
     "user": {
      "displayName": "Fanghao Zhong",
      "photoUrl": "",
      "userId": "10019608044960315541"
     },
     "user_tz": 300
    },
    "id": "RmmMO250Kyi4",
    "outputId": "e15d3f09-5b9c-400d-a215-f1c3f2a94ade"
   },
   "outputs": [
    {
     "data": {
      "image/png": "[encoded data removed]",
      "text/plain": [
       "<Figure size 432x288 with 1 Axes>"
      ]
     },
     "metadata": {
      "tags": []
     },
     "output_type": "display_data"
    }
   ],
   "source": [
    "plt.plot(np.array(total_loss_dep[:210])-np.array(temp_loss_dep[:210]), label='dependency')\n",
    "plt.plot(np.array(total_loss_ind[:210])-np.array(temp_loss_ind[:210]), label='independent')\n",
    "plt.xlabel('Frame')\n",
    "plt.ylabel('Loss')\n",
    "plt.title('Content+Style loss comparison')\n",
    "plt.legend()\n",
    "plt.show()"
   ]
  },
  {
   "cell_type": "code",
   "execution_count": 70,
   "metadata": {
    "colab": {
     "base_uri": "https://localhost:8080/",
     "height": 295
    },
    "colab_type": "code",
    "executionInfo": {
     "elapsed": 496,
     "status": "ok",
     "timestamp": 1576390224661,
     "user": {
      "displayName": "Fanghao Zhong",
      "photoUrl": "",
      "userId": "10019608044960315541"
     },
     "user_tz": 300
    },
    "id": "f-ngVTdeLXy_",
    "outputId": "f87051d2-8831-4fcf-bc13-1c069f370916"
   },
   "outputs": [
    {
     "data": {
      "image/png": "[encoded data removed]",
      "text/plain": [
       "<Figure size 432x288 with 1 Axes>"
      ]
     },
     "metadata": {
      "tags": []
     },
     "output_type": "display_data"
    }
   ],
   "source": [
    "plt.plot(temp_loss_dep[:210], label='dependency')\n",
    "plt.plot(temp_loss_ind[:210], label='independent')\n",
    "plt.xlabel('Frame')\n",
    "plt.ylabel('Loss')\n",
    "plt.title('Temporal loss comparison')\n",
    "plt.legend()\n",
    "plt.show()"
   ]
  },
  {
   "cell_type": "code",
   "execution_count": 0,
   "metadata": {
    "colab": {},
    "colab_type": "code",
    "id": "y1Kcr_I15ZNK"
   },
   "outputs": [],
   "source": []
  },
  {
   "cell_type": "code",
   "execution_count": 0,
   "metadata": {
    "colab": {
     "base_uri": "https://localhost:8080/",
     "height": 989
    },
    "colab_type": "code",
    "executionInfo": {
     "elapsed": 149081,
     "status": "ok",
     "timestamp": 1576283032715,
     "user": {
      "displayName": "Lizhong Wang",
      "photoUrl": "https://lh3.googleusercontent.com/a-/AAuE7mA-veR1WLdr1URcbMGRg9Wp56lixxWYsCJUnz_D=s64",
      "userId": "10873032871679177977"
     },
     "user_tz": 300
    },
    "id": "V7JC9XscOWhD",
    "outputId": "1709afeb-eac4-4b2b-93b1-88ca39286690"
   },
   "outputs": [
    {
     "name": "stdout",
     "output_type": "stream",
     "text": [
      "Frame 1 Total loss:  3284.895751953125\n",
      "completed style transfer on image:  1\n"
     ]
    },
    {
     "name": "stderr",
     "output_type": "stream",
     "text": [
      "/usr/local/lib/python3.6/dist-packages/torch/nn/functional.py:2693: UserWarning: Default grid_sample and affine_grid behavior will be changed to align_corners=False from 1.4.0. See the documentation of grid_sample for details.\n",
      "  warnings.warn(\"Default grid_sample and affine_grid behavior will be changed \"\n"
     ]
    },
    {
     "name": "stdout",
     "output_type": "stream",
     "text": [
      "Frame 2 Total loss:  3407.27392578125\n",
      "completed style transfer on image:  2\n",
      "Frame 3 Total loss:  3331.281982421875\n",
      "completed style transfer on image:  3\n",
      "Frame 4 Total loss:  3393.09326171875\n",
      "completed style transfer on image:  4\n",
      "Frame 5 Total loss:  3335.939208984375\n",
      "completed style transfer on image:  5\n",
      "Frame 6 Total loss:  3329.58447265625\n",
      "completed style transfer on image:  6\n",
      "Frame 7 Total loss:  3346.946533203125\n",
      "completed style transfer on image:  7\n",
      "Frame 8 Total loss:  3453.13330078125\n",
      "completed style transfer on image:  8\n",
      "Frame 9 Total loss:  3426.146728515625\n",
      "completed style transfer on image:  9\n",
      "Frame 10 Total loss:  3495.65380859375\n",
      "completed style transfer on image:  10\n",
      "Frame 11 Total loss:  3479.44482421875\n",
      "completed style transfer on image:  11\n",
      "Frame 12 Total loss:  3483.740966796875\n",
      "completed style transfer on image:  12\n",
      "Frame 13 Total loss:  3318.55322265625\n",
      "completed style transfer on image:  13\n",
      "Frame 14 Total loss:  3456.966796875\n",
      "completed style transfer on image:  14\n",
      "Frame 15 Total loss:  3284.886962890625\n",
      "completed style transfer on image:  15\n",
      "Frame 16 Total loss:  3262.18359375\n",
      "completed style transfer on image:  16\n",
      "Frame 17 Total loss:  3323.114013671875\n",
      "completed style transfer on image:  17\n",
      "Frame 18 Total loss:  3319.618408203125\n",
      "completed style transfer on image:  18\n",
      "Frame 19 Total loss:  3288.3916015625\n",
      "completed style transfer on image:  19\n",
      "Frame 20 Total loss:  3278.23681640625\n",
      "completed style transfer on image:  20\n",
      "Frame 21 Total loss:  3254.713623046875\n",
      "completed style transfer on image:  21\n",
      "Frame 22 Total loss:  3265.027099609375\n",
      "completed style transfer on image:  22\n",
      "Frame 23 Total loss:  3249.52294921875\n",
      "completed style transfer on image:  23\n",
      "Frame 24 Total loss:  3245.78173828125\n",
      "completed style transfer on image:  24\n",
      "Frame 25 Total loss:  3253.406982421875\n",
      "completed style transfer on image:  25\n",
      "Frame 26 Total loss:  3288.332763671875\n",
      "completed style transfer on image:  26\n",
      "Frame 27 Total loss:  3296.359375\n",
      "completed style transfer on image:  27\n"
     ]
    }
   ],
   "source": [
    "# Apply style transfer on the input frames:\n",
    "apply_style_transfer('input_content_frames', 'input_style_frames', 'style_3.jpg', 'output_style_transferred_frames')"
   ]
  },
  {
   "cell_type": "code",
   "execution_count": 0,
   "metadata": {
    "colab": {},
    "colab_type": "code",
    "id": "GgqJvGuCOZML"
   },
   "outputs": [],
   "source": [
    "# Convert the final images to video:\n",
    "def img_to_video(st_output_dir, output_video_name):\n",
    "    img = cv2.imread('../' + st_output_dir + '/st_frame_1.jpg')\n",
    "    height, width, layers = img.shape\n",
    "    fourcc = cv2.VideoWriter_fourcc(*'XVID')\n",
    "    video = cv2.VideoWriter('../output_processed_video/%s.avi' %output_video_name, fourcc, 25, (width, height))\n",
    "    for i in range(1, len([name for name in os.listdir('../%s' %st_output_dir) if os.path.isfile(os.path.join('../', st_output_dir, name))])+1):\n",
    "        video.write(cv2.imread('../' + st_output_dir + '/st_frame_' + str(i) + '.jpg'))\n",
    "\n",
    "    cv2.destroyAllWindows()\n",
    "    video.release()"
   ]
  },
  {
   "cell_type": "code",
   "execution_count": 0,
   "metadata": {
    "colab": {},
    "colab_type": "code",
    "id": "Qd8ZUNLtt4Q8"
   },
   "outputs": [],
   "source": [
    "img_to_video('output_style_transferred_frames', 'style_transfered_video')"
   ]
  },
  {
   "cell_type": "code",
   "execution_count": 0,
   "metadata": {
    "colab": {},
    "colab_type": "code",
    "id": "yY2laALgkQ7e"
   },
   "outputs": [],
   "source": []
  }
 ],
 "metadata": {
  "accelerator": "GPU",
  "colab": {
   "collapsed_sections": [],
   "name": "Calculate_Loss.ipynb",
   "provenance": []
  },
  "kernelspec": {
   "display_name": "Python 3",
   "language": "python",
   "name": "python3"
  },
  "language_info": {
   "codemirror_mode": {
    "name": "ipython",
    "version": 3
   },
   "file_extension": ".py",
   "mimetype": "text/x-python",
   "name": "python",
   "nbconvert_exporter": "python",
   "pygments_lexer": "ipython3",
   "version": "3.7.6"
  }
 },
 "nbformat": 4,
 "nbformat_minor": 1
}
